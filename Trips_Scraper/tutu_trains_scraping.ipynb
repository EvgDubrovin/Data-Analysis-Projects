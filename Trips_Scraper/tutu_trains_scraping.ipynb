{
 "cells": [
  {
   "cell_type": "code",
   "execution_count": 1,
   "id": "619b3b28",
   "metadata": {},
   "outputs": [],
   "source": [
    "from selenium.webdriver import Chrome\n",
    "from selenium.webdriver.common.keys import Keys\n",
    "from selenium.webdriver.support.ui import WebDriverWait as wait\n",
    "from selenium.webdriver.support import expected_conditions as EC \n",
    "from selenium.common.exceptions import NoSuchElementException \n",
    "from selenium.webdriver.common.by import By\n",
    "from selenium.webdriver.chrome.service import Service\n",
    "from selenium.webdriver.support.select import Select\n",
    "from selenium.webdriver.common.action_chains import ActionChains\n",
    "\n",
    "from bs4 import BeautifulSoup\n",
    "from time import sleep \n",
    "from tqdm import tqdm # чтобы показать бар заполняемости прогресса\n",
    "\n",
    "import pandas as pd\n",
    "from datetime import datetime"
   ]
  },
  {
   "cell_type": "code",
   "execution_count": 19,
   "id": "b80a9a36",
   "metadata": {},
   "outputs": [],
   "source": [
    "# to exclude DeprecationWarning\n",
    "service = Service('C:/Users/eadub/chromedriver_win32/chromedriver.exe')\n",
    "# Запускаем Chrome driver\n",
    "browser = Chrome(service=service)\n",
    "browser.maximize_window()\n",
    "browser.implicitly_wait(10)"
   ]
  },
  {
   "cell_type": "code",
   "execution_count": 20,
   "id": "e58c2a68",
   "metadata": {},
   "outputs": [],
   "source": [
    "url = 'https://www.tutu.ru/'"
   ]
  },
  {
   "cell_type": "code",
   "execution_count": 21,
   "id": "67c175d8",
   "metadata": {},
   "outputs": [],
   "source": [
    "browser.get(url)\n",
    "sleep(5)"
   ]
  },
  {
   "cell_type": "code",
   "execution_count": 22,
   "id": "55817b41",
   "metadata": {},
   "outputs": [],
   "source": [
    "# Changing to trains\n",
    "trains = browser.find_element(By.CSS_SELECTOR, \"div.t-ttl_third:nth-child(2) > div:nth-child(3)\")\n",
    "trains.click()"
   ]
  },
  {
   "cell_type": "code",
   "execution_count": 39,
   "id": "621c8fd8",
   "metadata": {},
   "outputs": [],
   "source": [
    "# Откуда\n",
    "origin = 'москва'\n",
    "# Куда\n",
    "destination = 'казань'\n",
    "\n",
    "# Дата отправления\n",
    "# Введите дату отправления в формате \"dd.mm.yyyy\"\n",
    "departure_date = '16.03.2023'\n",
    "\n",
    "# Дата возвращения\n",
    "# Введите дату возвращения в формате \"dd.mm.yyyy\"\n",
    "return_date = '17.03.2023'\n",
    "\n",
    "# Введите желаемое время прилета в город командировки формате 'hh:00'\n",
    "arrival_start_time = '06:00'\n",
    "arrival_end_time = '09:00'\n",
    "# Введите желаемое время прилета обратно в Москву из города командировки формате 'hh:00'\n",
    "returning_start_time = '19:00'\n",
    "returning_end_time = '23:00'\n",
    "\n",
    "# Выберите тип вагона из ['Сидячий', 'Плацкарт', 'Купе', 'СВ', 'Люкс']\n",
    "w_type = 'Купе'\n",
    "\n",
    "# Выберите рейтинг поезда: 'Высокий' или нет\n",
    "rating = 'ВЫсокий'"
   ]
  },
  {
   "cell_type": "code",
   "execution_count": 24,
   "id": "783d0f3c",
   "metadata": {},
   "outputs": [],
   "source": [
    "# Заполняем поле Откуда\n",
    "input_origin = browser.find_element(By.CSS_SELECTOR, \".m-train > form:nth-child(1) > div:nth-child(1) > div:nth-child(1) > div:nth-child(1) > div:nth-child(1) > div:nth-child(1) > div:nth-child(1) > input:nth-child(1)\")\n",
    "input_origin.click()\n",
    "input_origin.send_keys(origin)\n",
    "\n",
    "# Зполняем поле Куда\n",
    "input_destination = browser.find_element(By.CSS_SELECTOR, \".m-train > form:nth-child(1) > div:nth-child(1) > div:nth-child(1) > div:nth-child(3) > div:nth-child(1) > div:nth-child(1) > div:nth-child(1) > input:nth-child(1)\")\n",
    "input_destination.click()\n",
    "input_destination.send_keys(destination)"
   ]
  },
  {
   "cell_type": "code",
   "execution_count": 25,
   "id": "bd3a0c79",
   "metadata": {},
   "outputs": [],
   "source": [
    "# Заполняем Дату отправления\n",
    "input_dep_date = browser.find_element(By.CSS_SELECTOR, \".m-train > form:nth-child(1) > div:nth-child(1) > div:nth-child(1) > div:nth-child(4) > div:nth-child(1) > div:nth-child(1) > div:nth-child(1) > input:nth-child(1)\")\n",
    "input_dep_date.click()\n",
    "input_dep_date.click()\n",
    "input_dep_date.send_keys(departure_date)"
   ]
  },
  {
   "cell_type": "code",
   "execution_count": 26,
   "id": "8fa341df",
   "metadata": {},
   "outputs": [],
   "source": [
    "try:\n",
    "    ret_date_button = browser.find_element(By.CSS_SELECTOR, \".date_end_trigger > span:nth-child(1)\")\n",
    "    ret_date_button.click()\n",
    "except:\n",
    "    pass\n",
    "\n",
    "# Заполняем Дату возвращения\n",
    "input_ret_date = browser.find_element(By.CSS_SELECTOR, \".j-travel_date_date_second > div:nth-child(1) > input:nth-child(1)\")\n",
    "input_ret_date.click()\n",
    "input_ret_date.send_keys(return_date)"
   ]
  },
  {
   "cell_type": "code",
   "execution_count": 27,
   "id": "8d658485",
   "metadata": {},
   "outputs": [],
   "source": [
    "search_button = browser.find_element(By.CSS_SELECTOR, \"div.button_wrp:nth-child(6) > button:nth-child(1) > span:nth-child(1) > span:nth-child(3)\")\n",
    "search_button.click()\n",
    "sleep(10)"
   ]
  },
  {
   "cell_type": "code",
   "execution_count": 28,
   "id": "6a889e92",
   "metadata": {},
   "outputs": [],
   "source": [
    "# Filter only available tickets\n",
    "try:\n",
    "    # clicking on the checkboxes for both departure and return\n",
    "    for i in range(1, 3):\n",
    "    #     available_tickets_checkbox = wait(browser,5).until(EC.element_to_be_clickable((By.CSS_SELECTOR, f\"div.filter__wrp__3HXHK:nth-child({i}) > div:nth-child(2) > div:nth-child(6) > div:nth-child(7) > div:nth-child(1) > input:nth-child(1)\")))\n",
    "    #     available_tickets_checkbox.click()\n",
    "        browser.execute_script(\"arguments[0].click();\", wait(browser,5).until(EC.element_to_be_clickable((By.CSS_SELECTOR, f\"div.filter__wrp__3HXHK:nth-child({i}) > div:nth-child(2) > div:nth-child(6) > div:nth-child(7) > div:nth-child(1) > input:nth-child(1)\"))))\n",
    "except:\n",
    "    pass"
   ]
  },
  {
   "cell_type": "code",
   "execution_count": 29,
   "id": "d21b09fd",
   "metadata": {},
   "outputs": [],
   "source": [
    "# Filter type of wagon\n",
    "try:\n",
    "    # clicking on the needed wagon type for both departure and return\n",
    "    for i in range(1, 3):\n",
    "        # choosing type\n",
    "        for j in range(2,7):\n",
    "            type_checkbox = wait(browser,5).until(EC.element_to_be_clickable((By.CSS_SELECTOR, f\"div.filter__wrp__3HXHK:nth-child({i}) > div:nth-child(2) > div:nth-child(1) > div:nth-child({j}) > div:nth-child(1) > span:nth-child(2)\")))\n",
    "            if type_checkbox.text == w_type:\n",
    "    #             type_checkbox.click()\n",
    "                    browser.execute_script(\"arguments[0].click();\", type_checkbox)\n",
    "except:\n",
    "    pass"
   ]
  },
  {
   "cell_type": "code",
   "execution_count": 30,
   "id": "e4932d33",
   "metadata": {},
   "outputs": [],
   "source": [
    "# Filter train rating\n",
    "try:\n",
    "    # choosing rating for both departure and return\n",
    "    for i in range(1, 3):\n",
    "        if rating.lower() == 'высокий':\n",
    "            rating_tutu = wait(browser,5).until(EC.element_to_be_clickable((By.CSS_SELECTOR, f\"div.filter__wrp__3HXHK:nth-child({i}) > div:nth-child(2) > div:nth-child(3) > div:nth-child(2) > div:nth-child(1) > span:nth-child(2) > span:nth-child(1)\")))\n",
    "            rating_tutu.click()\n",
    "        else:\n",
    "            rating_tutu = wait(browser,5).until(EC.element_to_be_clickable((By.CSS_SELECTOR, f\"div.filter__wrp__3HXHK:nth-child({i}) > div:nth-child(2) > div:nth-child(3) > div:nth-child(4) > div:nth-child(1) > span:nth-child(2) > span:nth-child(1)\")))\n",
    "            rating_tutu.click()\n",
    "except:\n",
    "    pass"
   ]
  },
  {
   "cell_type": "code",
   "execution_count": 31,
   "id": "1457340e",
   "metadata": {},
   "outputs": [],
   "source": [
    "def to_time_format(t): \n",
    "    t = datetime.strptime(t, \"%H:%M\").time()\n",
    "    return t"
   ]
  },
  {
   "cell_type": "code",
   "execution_count": 76,
   "id": "cfd5293a",
   "metadata": {},
   "outputs": [
    {
     "name": "stdout",
     "output_type": "stream",
     "text": [
      "Казань\n",
      "07:48\n",
      "Выбрать поезд туда\n",
      "Казань\n",
      "08:00\n",
      "Выбрать поезд туда\n"
     ]
    }
   ],
   "source": [
    "# Choosing ticket to the destination city\n",
    "to = browser.find_element(By.CSS_SELECTOR, \".l-content > div:nth-child(2)\")\n",
    "# counting all available tickets to the destination city\n",
    "els = to.find_elements(By.CSS_SELECTOR, \"span.schedule_time\")\n",
    "num_to = len(els)\n",
    "\n",
    "for i in range(1, num_to+1):\n",
    "    # destination city\n",
    "    des_tutu = to.find_element(By.CSS_SELECTOR, f\"div:nth-child(4) > div:nth-child(1) > div:nth-child(2) > div:nth-child({i}) > div:nth-child(1) > div > span:nth-child(1) > span:nth-child(2) > a:nth-child(1) > span:nth-child(1)\")\n",
    "    # arrival time (to the destination city)\n",
    "    arr_time_tutu = to.find_element(By.CSS_SELECTOR, f\"div:nth-child(4) > div:nth-child(1) > div:nth-child(2) > div:nth-child({i}) > div:nth-child(1) > div > div:nth-child(1) > span:nth-child(1)\")\n",
    "    # choose ticket button \n",
    "    choose_button = to.find_element(By.CSS_SELECTOR, f\"div:nth-child(4) > div:nth-child(1) > div:nth-child(2) > div:nth-child({i}) > div:nth-child(1) > div > div:nth-child(1) > div:nth-child(2) > div:nth-child(1) > span\")\n",
    "    if des_tutu.text==destination.capitalize() and to_time_format(arrival_start_time)<=to_time_format(arr_time_tutu.text)<=to_time_format(arrival_end_time):\n",
    "        print(des_tutu.text)\n",
    "        print(arr_time_tutu.text)\n",
    "        print(choose_button.text)\n",
    "        choose_button.click()"
   ]
  },
  {
   "cell_type": "code",
   "execution_count": 79,
   "id": "fdf8aadd",
   "metadata": {},
   "outputs": [
    {
     "name": "stdout",
     "output_type": "stream",
     "text": [
      "Москва\n",
      "20:00\n",
      "Выбрать поезд обратно\n",
      "\n",
      "21:59\n",
      "Выбрать поезд обратно\n"
     ]
    }
   ],
   "source": [
    "# Choosing ticket back to Moscow\n",
    "back = browser.find_element(By.CSS_SELECTOR, \".l-content > div:nth-child(3) > div:nth-child(4) > div:nth-child(1) > div:nth-child(2)\")\n",
    "# counting all available tickets to the destination city\n",
    "els = to.find_elements(By.CSS_SELECTOR, \"div.departure_time\")\n",
    "num_back = len(els)\n",
    "\n",
    "# origin city\n",
    "origin_tutu = back.find_elements(By.CSS_SELECTOR, \"span.route_block[data-ti='route_arrival_station']\")\n",
    "# returning time (back to Moscow)\n",
    "ret_time_tutu = back.find_elements(By.CLASS_NAME, \"departure_time\")\n",
    "# choose ticket button \n",
    "choose_button = back.find_elements(By.CLASS_NAME, \"b-button__standart\")\n",
    "\n",
    "for i in range(num_back):\n",
    "    # there're some empty values - i exclude them\n",
    "    if origin_tutu[i].text != '':\n",
    "        if origin_tutu[i].text==origin.capitalize() and to_time_format(ret_time_tutu[i].text)>=to_time_format(returning_start_time) and to_time_format(ret_time_tutu[i].text)<=to_time_format(returning_end_time):\n",
    "            print(origin_tutu[i].text)\n",
    "            print(ret_time_tutu[i].text)\n",
    "            print(choose_button[i].text)\n",
    "            try:\n",
    "                choose_button[i].click()\n",
    "            except:\n",
    "                pass\n",
    "sleep(2)"
   ]
  },
  {
   "cell_type": "code",
   "execution_count": 80,
   "id": "9a294db7",
   "metadata": {},
   "outputs": [],
   "source": [
    "# Choosing suitable tickets\n",
    "fin_choose = browser.find_element(By.CSS_SELECTOR, \"._blue > span:nth-child(1) > span:nth-child(2)\")\n",
    "fin_choose.click()"
   ]
  }
 ],
 "metadata": {
  "kernelspec": {
   "display_name": "Python 3 (ipykernel)",
   "language": "python",
   "name": "python3"
  },
  "language_info": {
   "codemirror_mode": {
    "name": "ipython",
    "version": 3
   },
   "file_extension": ".py",
   "mimetype": "text/x-python",
   "name": "python",
   "nbconvert_exporter": "python",
   "pygments_lexer": "ipython3",
   "version": "3.9.12"
  }
 },
 "nbformat": 4,
 "nbformat_minor": 5
}
